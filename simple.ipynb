{
  "cells": [
    {
      "cell_type": "markdown",
      "metadata": {
        "id": "4OGQSVWxiuB_"
      },
      "source": [
        "# Simple moving MNIST for convection\n",
        "\n",
        "From https://keras.io/examples/vision/conv_lstm/"
      ]
    },
    {
      "cell_type": "markdown",
      "metadata": {
        "id": "8KKqXvffkIlk"
      },
      "source": [
        "### Imports"
      ]
    },
    {
      "cell_type": "code",
      "execution_count": 1,
      "metadata": {
        "id": "VQWjBVR3iJSX"
      },
      "outputs": [],
      "source": [
        "import numpy as np\n",
        "import matplotlib.pyplot as plt\n",
        "\n",
        "import tensorflow as tf\n",
        "# from tensorflow import keras\n",
        "# from tensorflow.keras import layers\n",
        "from sklearn.model_selection import train_test_split\n",
        "\n",
        "import io\n",
        "import imageio\n",
        "from IPython.display import Image, display\n",
        "from ipywidgets import widgets, Layout, HBox"
      ]
    },
    {
      "cell_type": "code",
      "execution_count": 2,
      "metadata": {
        "id": "BRwlm12NlE68",
        "outputId": "8228d6cd-7a32-420f-f568-364f89877f42",
        "colab": {
          "base_uri": "https://localhost:8080/"
        }
      },
      "outputs": [
        {
          "output_type": "stream",
          "name": "stdout",
          "text": [
            "1\n",
            "[PhysicalDevice(name='/physical_device:GPU:0', device_type='GPU')]\n",
            "WARNING:tensorflow:From <ipython-input-2-d867daefb6f5>:6: is_gpu_available (from tensorflow.python.framework.test_util) is deprecated and will be removed in a future version.\n",
            "Instructions for updating:\n",
            "Use `tf.config.list_physical_devices('GPU')` instead.\n"
          ]
        },
        {
          "output_type": "execute_result",
          "data": {
            "text/plain": [
              "True"
            ]
          },
          "metadata": {},
          "execution_count": 2
        }
      ],
      "source": [
        "devices = tf.config.list_physical_devices('GPU')\n",
        "print(len(devices))\n",
        "print(devices)\n",
        "tf.test.is_built_with_cuda()\n",
        "tf.test.is_gpu_available(\n",
        "  cuda_only=False, min_cuda_compute_capability=None\n",
        ")"
      ]
    },
    {
      "cell_type": "markdown",
      "metadata": {
        "id": "7p9kWdTtkKZO"
      },
      "source": [
        "### Utility functions"
      ]
    },
    {
      "cell_type": "code",
      "execution_count": 3,
      "metadata": {
        "id": "yjKb78_wjpFw"
      },
      "outputs": [],
      "source": [
        "def download_moving_mnist(n_samples=None):\n",
        "  # Download and load the dataset.\n",
        "  fpath = tf.keras.utils.get_file(\n",
        "      \"moving_mnist.npy\",\n",
        "      \"http://www.cs.toronto.edu/~nitish/unsupervised_video/mnist_test_seq.npy\",\n",
        "  )\n",
        "  dataset = np.load(fpath) \n",
        "  if n_samples is not None:\n",
        "    dataset = dataset[:, 0:n_samples, :, :]\n",
        "  # Swap the axes representing the number of frames and number of data samples.\n",
        "  dataset = np.swapaxes(dataset, 0, 1)\n",
        "  # Add a channel dimension since the images are grayscale.\n",
        "  dataset = np.expand_dims(dataset, axis=-1)\n",
        "  return dataset"
      ]
    },
    {
      "cell_type": "code",
      "execution_count": 4,
      "metadata": {
        "id": "NbCFPdLwmZw-"
      },
      "outputs": [],
      "source": [
        "def split_dataset(dataset, test=0.2, random_state=None, shuffle=False):\n",
        "  splitting = train_test_split(\n",
        "      dataset,\n",
        "      test_size=test,\n",
        "      train_size=None,\n",
        "      random_state=random_state,\n",
        "      shuffle=shuffle)\n",
        "  return splitting\n"
      ]
    },
    {
      "cell_type": "code",
      "execution_count": 5,
      "metadata": {
        "id": "GzmykrU5ngOo"
      },
      "outputs": [],
      "source": [
        "def normalise_dataset(dataset, factor=1./255.):\n",
        "  return dataset*factor"
      ]
    },
    {
      "cell_type": "code",
      "execution_count": 6,
      "metadata": {
        "id": "U5vS581QlE6-"
      },
      "outputs": [],
      "source": [
        "def create_shifted_frames(data):\n",
        "    x = data[:, 0:data.shape[1] - 1, :, :]\n",
        "    y = data[:, 1:data.shape[1], :, :]\n",
        "    return x, y"
      ]
    },
    {
      "cell_type": "markdown",
      "metadata": {
        "id": "znk4Ch5vlE6-"
      },
      "source": [
        "## Data Viz functions"
      ]
    },
    {
      "cell_type": "code",
      "execution_count": 7,
      "metadata": {
        "id": "GDyTvLI6lE6-"
      },
      "outputs": [],
      "source": [
        "def plot_frames(dataset):\n",
        "    fig, axes = plt.subplots(4, 5, figsize=(10, 8))\n",
        "\n",
        "    # Plot each of the sequential images for one random data example.\n",
        "    data_choice = np.random.choice(range(len(dataset)), size=1)[0]\n",
        "    for idx, ax in enumerate(axes.flat):\n",
        "        ax.imshow(np.squeeze(dataset[data_choice][idx]), cmap=\"gray\")\n",
        "        ax.set_title(f\"Frame {idx + 1}\")\n",
        "        ax.axis(\"off\")\n",
        "\n",
        "    # Print information and display the figure.\n",
        "    print(f\"Displaying frames for example {data_choice}.\")\n",
        "    plt.show()"
      ]
    },
    {
      "cell_type": "code",
      "execution_count": 7,
      "metadata": {
        "id": "L8BA4bBPlE6-"
      },
      "outputs": [],
      "source": [
        ""
      ]
    },
    {
      "cell_type": "code",
      "execution_count": 7,
      "metadata": {
        "id": "-c7wBxBAlE6_"
      },
      "outputs": [],
      "source": [
        ""
      ]
    },
    {
      "cell_type": "code",
      "execution_count": 7,
      "metadata": {
        "id": "KDX_AF41lE6_"
      },
      "outputs": [],
      "source": [
        ""
      ]
    },
    {
      "cell_type": "markdown",
      "metadata": {
        "id": "l1tn6GrLlE6_"
      },
      "source": [
        "### Code"
      ]
    },
    {
      "cell_type": "code",
      "execution_count": 8,
      "metadata": {
        "id": "q4qpWHSDkP6n",
        "outputId": "d2119701-673e-4e02-8cff-ed8b0c1e35c8",
        "colab": {
          "base_uri": "https://localhost:8080/"
        }
      },
      "outputs": [
        {
          "output_type": "stream",
          "name": "stdout",
          "text": [
            "Downloading data from http://www.cs.toronto.edu/~nitish/unsupervised_video/mnist_test_seq.npy\n",
            "819208192/819200096 [==============================] - 49s 0us/step\n",
            "819216384/819200096 [==============================] - 49s 0us/step\n"
          ]
        }
      ],
      "source": [
        "dataset = download_moving_mnist(n_samples=2000)\n",
        "dataset = normalise_dataset(dataset)"
      ]
    },
    {
      "cell_type": "code",
      "execution_count": 9,
      "metadata": {
        "colab": {
          "base_uri": "https://localhost:8080/"
        },
        "id": "NXyy7BLSkcnW",
        "outputId": "67aecddf-4647-4d9c-c289-e4d5658e56f8"
      },
      "outputs": [
        {
          "output_type": "execute_result",
          "data": {
            "text/plain": [
              "(2000, 20, 64, 64, 1)"
            ]
          },
          "metadata": {},
          "execution_count": 9
        }
      ],
      "source": [
        "dataset.shape\n",
        "# (10000, 20, 64, 64, 1)\n",
        "# (samples, frames, width, height, # of channels)"
      ]
    },
    {
      "cell_type": "code",
      "execution_count": 10,
      "metadata": {
        "id": "QAiWFWHpk_cm",
        "outputId": "1577ab12-39c2-4c6a-8ded-d066d13b8be2",
        "colab": {
          "base_uri": "https://localhost:8080/"
        }
      },
      "outputs": [
        {
          "output_type": "stream",
          "name": "stdout",
          "text": [
            "Length of training dataset: 1600\n",
            "Length of validation dataset: 400\n"
          ]
        }
      ],
      "source": [
        "tr_dataset, val_dataset = split_dataset(dataset, test=0.2, random_state=1)\n",
        "print(f'Length of training dataset: {len(tr_dataset)}')\n",
        "print(f'Length of validation dataset: {len(val_dataset)}')"
      ]
    },
    {
      "cell_type": "code",
      "execution_count": 11,
      "metadata": {
        "colab": {
          "base_uri": "https://localhost:8080/"
        },
        "id": "NG9D5BY_nL8F",
        "outputId": "87ca6f2f-a144-4649-d638-b24e54254b99"
      },
      "outputs": [
        {
          "output_type": "stream",
          "name": "stdout",
          "text": [
            "Training dataset shapes: (1600, 19, 64, 64, 1), (1600, 19, 64, 64, 1)\n",
            "Validation dataset shapes: (400, 19, 64, 64, 1), (400, 19, 64, 64, 1)\n"
          ]
        }
      ],
      "source": [
        "tr_x, tr_y = create_shifted_frames(tr_dataset)\n",
        "val_x, val_y = create_shifted_frames(val_dataset)\n",
        "print(f'Training dataset shapes: {tr_x.shape}, {tr_y.shape}')\n",
        "print(f'Validation dataset shapes: {val_x.shape}, {val_y.shape}')"
      ]
    },
    {
      "cell_type": "code",
      "execution_count": 12,
      "metadata": {
        "id": "QAkqipQxnP8-",
        "outputId": "85ad765e-b24f-4dc2-c0ce-dd1db5013bf9",
        "colab": {
          "base_uri": "https://localhost:8080/",
          "height": 499
        }
      },
      "outputs": [
        {
          "output_type": "stream",
          "name": "stdout",
          "text": [
            "Displaying frames for example 1314.\n"
          ]
        },
        {
          "output_type": "display_data",
          "data": {
            "text/plain": [
              "<Figure size 720x576 with 20 Axes>"
            ],
            "image/png": "[encoded data removed]"
          },
          "metadata": {
            "needs_background": "light"
          }
        }
      ],
      "source": [
        "plot_frames(tr_dataset)"
      ]
    },
    {
      "cell_type": "markdown",
      "metadata": {
        "id": "l583KD34lE7A"
      },
      "source": [
        "### Model Construction"
      ]
    },
    {
      "cell_type": "code",
      "execution_count": 13,
      "metadata": {
        "id": "O2MGwRM5lE7B",
        "outputId": "623db37d-5636-4dd3-f31a-97dc0a07b0ed",
        "colab": {
          "base_uri": "https://localhost:8080/"
        }
      },
      "outputs": [
        {
          "output_type": "execute_result",
          "data": {
            "text/plain": [
              "(64, 64, 1)"
            ]
          },
          "metadata": {},
          "execution_count": 13
        }
      ],
      "source": [
        "tr_x.shape\n",
        "tr_x.shape[2:]"
      ]
    },
    {
      "cell_type": "code",
      "execution_count": 14,
      "metadata": {
        "id": "l-K95nw2lE7B"
      },
      "outputs": [],
      "source": [
        "inp = tf.keras.layers.Input(shape=(None, *tr_x.shape[2:]))\n",
        "# We will construct 3 `ConvLSTM2D` layers with batch normalization,\n",
        "# followed by a `Conv3D` layer for the spatiotemporal outputs.\n",
        "x = tf.keras.layers.ConvLSTM2D(\n",
        "    filters=64,\n",
        "    kernel_size=(5, 5),\n",
        "    padding=\"same\",\n",
        "    return_sequences=True,\n",
        "    activation=\"relu\",\n",
        ")(inp)\n",
        "x = tf.keras.layers.BatchNormalization()(x)\n",
        "x = tf.keras.layers.ConvLSTM2D(\n",
        "    filters=64,\n",
        "    kernel_size=(3, 3),\n",
        "    padding=\"same\",\n",
        "    return_sequences=True,\n",
        "    activation=\"relu\",\n",
        ")(x)\n",
        "x = tf.keras.layers.BatchNormalization()(x)\n",
        "x = tf.keras.layers.ConvLSTM2D(\n",
        "    filters=64,\n",
        "    kernel_size=(1, 1),\n",
        "    padding=\"same\",\n",
        "    return_sequences=True,\n",
        "    activation=\"relu\",\n",
        ")(x)\n",
        "x = tf.keras.layers.Conv3D(\n",
        "    filters=1, kernel_size=(3, 3, 3), activation=\"sigmoid\", padding=\"same\"\n",
        ")(x)"
      ]
    },
    {
      "cell_type": "code",
      "execution_count": 15,
      "metadata": {
        "id": "uVRo9Y1ElE7B"
      },
      "outputs": [],
      "source": [
        "model = tf.keras.models.Model(inp, x)\n",
        "model.compile(\n",
        "    loss=tf.keras.losses.binary_crossentropy, optimizer=tf.keras.optimizers.Adam(),\n",
        ")"
      ]
    },
    {
      "cell_type": "code",
      "execution_count": null,
      "metadata": {
        "id": "dlpPfPCFlE7B",
        "outputId": "e8725b86-7483-4bca-8ab2-203951b589b3",
        "colab": {
          "base_uri": "https://localhost:8080/"
        }
      },
      "outputs": [
        {
          "output_type": "stream",
          "name": "stdout",
          "text": [
            "Epoch 1/10\n",
            "320/320 [==============================] - 823s 3s/step - loss: 0.1731 - val_loss: 0.3870 - lr: 0.0010\n",
            "Epoch 2/10\n",
            "320/320 [==============================] - 805s 3s/step - loss: 0.1675 - val_loss: 0.3300 - lr: 0.0010\n",
            "Epoch 3/10\n",
            "320/320 [==============================] - 804s 3s/step - loss: 0.1744 - val_loss: 0.2118 - lr: 0.0010\n",
            "Epoch 4/10\n",
            "308/320 [===========================>..] - ETA: 27s - loss: 0.1703"
          ]
        }
      ],
      "source": [
        "# config = tf.ConfigProto(gpu_options= tf.GPUOptions(allow_growth=True))\n",
        "# allow_growth=True is the important part here\n",
        "\n",
        "# Define some callbacks to improve training.\n",
        "early_stopping = tf.keras.callbacks.EarlyStopping(monitor=\"val_loss\", patience=10)\n",
        "reduce_lr = tf.keras.callbacks.ReduceLROnPlateau(monitor=\"val_loss\", patience=5)\n",
        "\n",
        "# Define modifiable training hyperparameters.\n",
        "epochs = 10\n",
        "batch_size = 5\n",
        "\n",
        "# Fit the model to the training data.\n",
        "model.fit(\n",
        "    tr_x,\n",
        "    tr_y,\n",
        "    batch_size=batch_size,\n",
        "    epochs=epochs,\n",
        "    validation_data=(val_x, val_y),\n",
        "    callbacks=[early_stopping, reduce_lr],\n",
        ")"
      ]
    },
    {
      "cell_type": "code",
      "execution_count": null,
      "metadata": {
        "id": "Cn2sW2yelE7C"
      },
      "outputs": [],
      "source": [
        "# Select a random example from the validation dataset.\n",
        "example = val_dataset[np.random.choice(range(len(val_dataset)), size=1)[0]]\n",
        "\n",
        "# Pick the first/last ten frames from the example.\n",
        "frames = example[:10, ...]\n",
        "original_frames = example[10:, ...]\n",
        "\n",
        "# Predict a new set of 10 frames.\n",
        "for _ in range(10):\n",
        "    # Extract the model's prediction and post-process it.\n",
        "    new_prediction = model.predict(np.expand_dims(frames, axis=0))\n",
        "    new_prediction = np.squeeze(new_prediction, axis=0)\n",
        "    predicted_frame = np.expand_dims(new_prediction[-1, ...], axis=0)\n",
        "\n",
        "    # Extend the set of prediction frames.\n",
        "    frames = np.concatenate((frames, predicted_frame), axis=0)\n",
        "\n",
        "# Construct a figure for the original and new frames.\n",
        "fig, axes = plt.subplots(2, 10, figsize=(20, 4))\n",
        "\n",
        "# Plot the original frames.\n",
        "for idx, ax in enumerate(axes[0]):\n",
        "    ax.imshow(np.squeeze(original_frames[idx]), cmap=\"gray\")\n",
        "    ax.set_title(f\"Frame {idx + 11}\")\n",
        "    ax.axis(\"off\")\n",
        "\n",
        "# Plot the new frames.\n",
        "new_frames = frames[10:, ...]\n",
        "for idx, ax in enumerate(axes[1]):\n",
        "    ax.imshow(np.squeeze(new_frames[idx]), cmap=\"gray\")\n",
        "    ax.set_title(f\"Frame {idx + 11}\")\n",
        "    ax.axis(\"off\")\n",
        "\n",
        "# Display the figure.\n",
        "plt.show()"
      ]
    },
    {
      "cell_type": "code",
      "execution_count": null,
      "metadata": {
        "id": "RmbmFWPFlE7C"
      },
      "outputs": [],
      "source": [
        ""
      ]
    },
    {
      "cell_type": "code",
      "execution_count": null,
      "metadata": {
        "id": "Cm6A1Ys1lE7C"
      },
      "outputs": [],
      "source": [
        ""
      ]
    }
  ],
  "metadata": {
    "colab": {
      "name": "Untitled0.ipynb",
      "provenance": []
    },
    "kernelspec": {
      "display_name": "Python 3 (ipykernel)",
      "language": "python",
      "name": "python3"
    },
    "language_info": {
      "codemirror_mode": {
        "name": "ipython",
        "version": 3
      },
      "file_extension": ".py",
      "mimetype": "text/x-python",
      "name": "python",
      "nbconvert_exporter": "python",
      "pygments_lexer": "ipython3",
      "version": "3.8.12"
    },
    "accelerator": "GPU"
  },
  "nbformat": 4,
  "nbformat_minor": 0
}